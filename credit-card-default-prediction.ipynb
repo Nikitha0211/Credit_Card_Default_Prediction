{
 "cells": [
  {
   "cell_type": "markdown",
   "id": "79fefbc5",
   "metadata": {
    "papermill": {
     "duration": 0.009747,
     "end_time": "2024-06-27T17:23:11.842505",
     "exception": false,
     "start_time": "2024-06-27T17:23:11.832758",
     "status": "completed"
    },
    "tags": []
   },
   "source": [
    "## **Credit Card Default Prediction**\n",
    "\n",
    "The data set consists of 2000 samples from each of two categories. Five variables are\n",
    "\n",
    "1.Income\n",
    "\n",
    "2.Age\n",
    "\n",
    "3.Loan\n",
    "\n",
    "4.Loan to Income (engineered feature)\n",
    "\n",
    "5.Default"
   ]
  },
  {
   "cell_type": "code",
   "execution_count": 1,
   "id": "71fa7515",
   "metadata": {
    "execution": {
     "iopub.execute_input": "2024-06-27T17:23:11.861654Z",
     "iopub.status.busy": "2024-06-27T17:23:11.861191Z",
     "iopub.status.idle": "2024-06-27T17:23:12.881815Z",
     "shell.execute_reply": "2024-06-27T17:23:12.880477Z"
    },
    "papermill": {
     "duration": 1.033013,
     "end_time": "2024-06-27T17:23:12.884964",
     "exception": false,
     "start_time": "2024-06-27T17:23:11.851951",
     "status": "completed"
    },
    "tags": []
   },
   "outputs": [],
   "source": [
    "# Step 1 : import library\n",
    "import pandas as pd"
   ]
  },
  {
   "cell_type": "code",
   "execution_count": 2,
   "id": "b390ada8",
   "metadata": {
    "execution": {
     "iopub.execute_input": "2024-06-27T17:23:12.903147Z",
     "iopub.status.busy": "2024-06-27T17:23:12.902548Z",
     "iopub.status.idle": "2024-06-27T17:23:12.929846Z",
     "shell.execute_reply": "2024-06-27T17:23:12.928808Z"
    },
    "papermill": {
     "duration": 0.039525,
     "end_time": "2024-06-27T17:23:12.932732",
     "exception": false,
     "start_time": "2024-06-27T17:23:12.893207",
     "status": "completed"
    },
    "tags": []
   },
   "outputs": [],
   "source": [
    "# Step 2 : import data\n",
    "default = pd.read_csv('/kaggle/input/credit-card-default-predictiondataset/Credit_Card_Default_PredictionDataset.csv')"
   ]
  },
  {
   "cell_type": "code",
   "execution_count": 3,
   "id": "77708798",
   "metadata": {
    "execution": {
     "iopub.execute_input": "2024-06-27T17:23:12.950554Z",
     "iopub.status.busy": "2024-06-27T17:23:12.950121Z",
     "iopub.status.idle": "2024-06-27T17:23:12.976970Z",
     "shell.execute_reply": "2024-06-27T17:23:12.975793Z"
    },
    "papermill": {
     "duration": 0.0388,
     "end_time": "2024-06-27T17:23:12.979545",
     "exception": false,
     "start_time": "2024-06-27T17:23:12.940745",
     "status": "completed"
    },
    "tags": []
   },
   "outputs": [
    {
     "data": {
      "text/html": [
       "<div>\n",
       "<style scoped>\n",
       "    .dataframe tbody tr th:only-of-type {\n",
       "        vertical-align: middle;\n",
       "    }\n",
       "\n",
       "    .dataframe tbody tr th {\n",
       "        vertical-align: top;\n",
       "    }\n",
       "\n",
       "    .dataframe thead th {\n",
       "        text-align: right;\n",
       "    }\n",
       "</style>\n",
       "<table border=\"1\" class=\"dataframe\">\n",
       "  <thead>\n",
       "    <tr style=\"text-align: right;\">\n",
       "      <th></th>\n",
       "      <th>Income</th>\n",
       "      <th>Age</th>\n",
       "      <th>Loan</th>\n",
       "      <th>Loan to Income</th>\n",
       "      <th>Default</th>\n",
       "    </tr>\n",
       "  </thead>\n",
       "  <tbody>\n",
       "    <tr>\n",
       "      <th>0</th>\n",
       "      <td>66155.92510</td>\n",
       "      <td>59.017015</td>\n",
       "      <td>8106.532131</td>\n",
       "      <td>0.122537</td>\n",
       "      <td>0</td>\n",
       "    </tr>\n",
       "    <tr>\n",
       "      <th>1</th>\n",
       "      <td>34415.15397</td>\n",
       "      <td>48.117153</td>\n",
       "      <td>6564.745018</td>\n",
       "      <td>0.190752</td>\n",
       "      <td>0</td>\n",
       "    </tr>\n",
       "    <tr>\n",
       "      <th>2</th>\n",
       "      <td>57317.17006</td>\n",
       "      <td>63.108049</td>\n",
       "      <td>8020.953296</td>\n",
       "      <td>0.139940</td>\n",
       "      <td>0</td>\n",
       "    </tr>\n",
       "    <tr>\n",
       "      <th>3</th>\n",
       "      <td>42709.53420</td>\n",
       "      <td>45.751972</td>\n",
       "      <td>6103.642260</td>\n",
       "      <td>0.142911</td>\n",
       "      <td>0</td>\n",
       "    </tr>\n",
       "    <tr>\n",
       "      <th>4</th>\n",
       "      <td>66952.68885</td>\n",
       "      <td>18.584336</td>\n",
       "      <td>8770.099235</td>\n",
       "      <td>0.130990</td>\n",
       "      <td>1</td>\n",
       "    </tr>\n",
       "  </tbody>\n",
       "</table>\n",
       "</div>"
      ],
      "text/plain": [
       "        Income        Age         Loan  Loan to Income  Default\n",
       "0  66155.92510  59.017015  8106.532131        0.122537        0\n",
       "1  34415.15397  48.117153  6564.745018        0.190752        0\n",
       "2  57317.17006  63.108049  8020.953296        0.139940        0\n",
       "3  42709.53420  45.751972  6103.642260        0.142911        0\n",
       "4  66952.68885  18.584336  8770.099235        0.130990        1"
      ]
     },
     "execution_count": 3,
     "metadata": {},
     "output_type": "execute_result"
    }
   ],
   "source": [
    "default.head()"
   ]
  },
  {
   "cell_type": "code",
   "execution_count": 4,
   "id": "e756641e",
   "metadata": {
    "execution": {
     "iopub.execute_input": "2024-06-27T17:23:12.997476Z",
     "iopub.status.busy": "2024-06-27T17:23:12.997052Z",
     "iopub.status.idle": "2024-06-27T17:23:13.024092Z",
     "shell.execute_reply": "2024-06-27T17:23:13.022796Z"
    },
    "papermill": {
     "duration": 0.03938,
     "end_time": "2024-06-27T17:23:13.027125",
     "exception": false,
     "start_time": "2024-06-27T17:23:12.987745",
     "status": "completed"
    },
    "tags": []
   },
   "outputs": [
    {
     "name": "stdout",
     "output_type": "stream",
     "text": [
      "<class 'pandas.core.frame.DataFrame'>\n",
      "RangeIndex: 2000 entries, 0 to 1999\n",
      "Data columns (total 5 columns):\n",
      " #   Column          Non-Null Count  Dtype  \n",
      "---  ------          --------------  -----  \n",
      " 0   Income          2000 non-null   float64\n",
      " 1   Age             2000 non-null   float64\n",
      " 2   Loan            2000 non-null   float64\n",
      " 3   Loan to Income  2000 non-null   float64\n",
      " 4   Default         2000 non-null   int64  \n",
      "dtypes: float64(4), int64(1)\n",
      "memory usage: 78.2 KB\n"
     ]
    }
   ],
   "source": [
    "default.info()"
   ]
  },
  {
   "cell_type": "code",
   "execution_count": 5,
   "id": "15d5d13c",
   "metadata": {
    "execution": {
     "iopub.execute_input": "2024-06-27T17:23:13.045747Z",
     "iopub.status.busy": "2024-06-27T17:23:13.045240Z",
     "iopub.status.idle": "2024-06-27T17:23:13.077249Z",
     "shell.execute_reply": "2024-06-27T17:23:13.076044Z"
    },
    "papermill": {
     "duration": 0.044288,
     "end_time": "2024-06-27T17:23:13.079901",
     "exception": false,
     "start_time": "2024-06-27T17:23:13.035613",
     "status": "completed"
    },
    "tags": []
   },
   "outputs": [
    {
     "data": {
      "text/html": [
       "<div>\n",
       "<style scoped>\n",
       "    .dataframe tbody tr th:only-of-type {\n",
       "        vertical-align: middle;\n",
       "    }\n",
       "\n",
       "    .dataframe tbody tr th {\n",
       "        vertical-align: top;\n",
       "    }\n",
       "\n",
       "    .dataframe thead th {\n",
       "        text-align: right;\n",
       "    }\n",
       "</style>\n",
       "<table border=\"1\" class=\"dataframe\">\n",
       "  <thead>\n",
       "    <tr style=\"text-align: right;\">\n",
       "      <th></th>\n",
       "      <th>Income</th>\n",
       "      <th>Age</th>\n",
       "      <th>Loan</th>\n",
       "      <th>Loan to Income</th>\n",
       "      <th>Default</th>\n",
       "    </tr>\n",
       "  </thead>\n",
       "  <tbody>\n",
       "    <tr>\n",
       "      <th>count</th>\n",
       "      <td>2000.000000</td>\n",
       "      <td>2000.000000</td>\n",
       "      <td>2000.000000</td>\n",
       "      <td>2000.000000</td>\n",
       "      <td>2000.000000</td>\n",
       "    </tr>\n",
       "    <tr>\n",
       "      <th>mean</th>\n",
       "      <td>45331.600018</td>\n",
       "      <td>40.927143</td>\n",
       "      <td>4444.369695</td>\n",
       "      <td>0.098403</td>\n",
       "      <td>0.141500</td>\n",
       "    </tr>\n",
       "    <tr>\n",
       "      <th>std</th>\n",
       "      <td>14326.327119</td>\n",
       "      <td>13.262450</td>\n",
       "      <td>3045.410024</td>\n",
       "      <td>0.057620</td>\n",
       "      <td>0.348624</td>\n",
       "    </tr>\n",
       "    <tr>\n",
       "      <th>min</th>\n",
       "      <td>20014.489470</td>\n",
       "      <td>18.055189</td>\n",
       "      <td>1.377630</td>\n",
       "      <td>0.000049</td>\n",
       "      <td>0.000000</td>\n",
       "    </tr>\n",
       "    <tr>\n",
       "      <th>25%</th>\n",
       "      <td>32796.459720</td>\n",
       "      <td>29.062492</td>\n",
       "      <td>1939.708847</td>\n",
       "      <td>0.047903</td>\n",
       "      <td>0.000000</td>\n",
       "    </tr>\n",
       "    <tr>\n",
       "      <th>50%</th>\n",
       "      <td>45789.117310</td>\n",
       "      <td>41.382673</td>\n",
       "      <td>3974.719418</td>\n",
       "      <td>0.099437</td>\n",
       "      <td>0.000000</td>\n",
       "    </tr>\n",
       "    <tr>\n",
       "      <th>75%</th>\n",
       "      <td>57791.281670</td>\n",
       "      <td>52.596993</td>\n",
       "      <td>6432.410625</td>\n",
       "      <td>0.147585</td>\n",
       "      <td>0.000000</td>\n",
       "    </tr>\n",
       "    <tr>\n",
       "      <th>max</th>\n",
       "      <td>69995.685580</td>\n",
       "      <td>63.971796</td>\n",
       "      <td>13766.051240</td>\n",
       "      <td>0.199938</td>\n",
       "      <td>1.000000</td>\n",
       "    </tr>\n",
       "  </tbody>\n",
       "</table>\n",
       "</div>"
      ],
      "text/plain": [
       "             Income          Age          Loan  Loan to Income      Default\n",
       "count   2000.000000  2000.000000   2000.000000     2000.000000  2000.000000\n",
       "mean   45331.600018    40.927143   4444.369695        0.098403     0.141500\n",
       "std    14326.327119    13.262450   3045.410024        0.057620     0.348624\n",
       "min    20014.489470    18.055189      1.377630        0.000049     0.000000\n",
       "25%    32796.459720    29.062492   1939.708847        0.047903     0.000000\n",
       "50%    45789.117310    41.382673   3974.719418        0.099437     0.000000\n",
       "75%    57791.281670    52.596993   6432.410625        0.147585     0.000000\n",
       "max    69995.685580    63.971796  13766.051240        0.199938     1.000000"
      ]
     },
     "execution_count": 5,
     "metadata": {},
     "output_type": "execute_result"
    }
   ],
   "source": [
    "default.describe()"
   ]
  },
  {
   "cell_type": "code",
   "execution_count": 6,
   "id": "d9047dae",
   "metadata": {
    "execution": {
     "iopub.execute_input": "2024-06-27T17:23:13.098758Z",
     "iopub.status.busy": "2024-06-27T17:23:13.098342Z",
     "iopub.status.idle": "2024-06-27T17:23:13.109708Z",
     "shell.execute_reply": "2024-06-27T17:23:13.108430Z"
    },
    "papermill": {
     "duration": 0.023754,
     "end_time": "2024-06-27T17:23:13.112244",
     "exception": false,
     "start_time": "2024-06-27T17:23:13.088490",
     "status": "completed"
    },
    "tags": []
   },
   "outputs": [
    {
     "data": {
      "text/plain": [
       "Default\n",
       "0    1717\n",
       "1     283\n",
       "Name: count, dtype: int64"
      ]
     },
     "execution_count": 6,
     "metadata": {},
     "output_type": "execute_result"
    }
   ],
   "source": [
    "# Count of each category\n",
    "default['Default'].value_counts()"
   ]
  },
  {
   "cell_type": "code",
   "execution_count": 7,
   "id": "71a6e5f1",
   "metadata": {
    "execution": {
     "iopub.execute_input": "2024-06-27T17:23:13.131618Z",
     "iopub.status.busy": "2024-06-27T17:23:13.131211Z",
     "iopub.status.idle": "2024-06-27T17:23:13.136891Z",
     "shell.execute_reply": "2024-06-27T17:23:13.135065Z"
    },
    "papermill": {
     "duration": 0.018306,
     "end_time": "2024-06-27T17:23:13.139345",
     "exception": false,
     "start_time": "2024-06-27T17:23:13.121039",
     "status": "completed"
    },
    "tags": []
   },
   "outputs": [],
   "source": [
    "# Step 3 : define target (y) and features (X)"
   ]
  },
  {
   "cell_type": "code",
   "execution_count": 8,
   "id": "7e41bbbf",
   "metadata": {
    "execution": {
     "iopub.execute_input": "2024-06-27T17:23:13.158879Z",
     "iopub.status.busy": "2024-06-27T17:23:13.158442Z",
     "iopub.status.idle": "2024-06-27T17:23:13.166813Z",
     "shell.execute_reply": "2024-06-27T17:23:13.165399Z"
    },
    "papermill": {
     "duration": 0.021344,
     "end_time": "2024-06-27T17:23:13.169543",
     "exception": false,
     "start_time": "2024-06-27T17:23:13.148199",
     "status": "completed"
    },
    "tags": []
   },
   "outputs": [
    {
     "data": {
      "text/plain": [
       "Index(['Income', 'Age', 'Loan', 'Loan to Income', 'Default'], dtype='object')"
      ]
     },
     "execution_count": 8,
     "metadata": {},
     "output_type": "execute_result"
    }
   ],
   "source": [
    "default.columns"
   ]
  },
  {
   "cell_type": "code",
   "execution_count": 9,
   "id": "0828ca36",
   "metadata": {
    "execution": {
     "iopub.execute_input": "2024-06-27T17:23:13.189997Z",
     "iopub.status.busy": "2024-06-27T17:23:13.189581Z",
     "iopub.status.idle": "2024-06-27T17:23:13.194812Z",
     "shell.execute_reply": "2024-06-27T17:23:13.193580Z"
    },
    "papermill": {
     "duration": 0.018284,
     "end_time": "2024-06-27T17:23:13.197466",
     "exception": false,
     "start_time": "2024-06-27T17:23:13.179182",
     "status": "completed"
    },
    "tags": []
   },
   "outputs": [],
   "source": [
    "y = default['Default']"
   ]
  },
  {
   "cell_type": "code",
   "execution_count": 10,
   "id": "b0bb25d4",
   "metadata": {
    "execution": {
     "iopub.execute_input": "2024-06-27T17:23:13.217285Z",
     "iopub.status.busy": "2024-06-27T17:23:13.216887Z",
     "iopub.status.idle": "2024-06-27T17:23:13.224485Z",
     "shell.execute_reply": "2024-06-27T17:23:13.223163Z"
    },
    "papermill": {
     "duration": 0.02049,
     "end_time": "2024-06-27T17:23:13.226974",
     "exception": false,
     "start_time": "2024-06-27T17:23:13.206484",
     "status": "completed"
    },
    "tags": []
   },
   "outputs": [],
   "source": [
    "X = default.drop(['Default'],axis=1)"
   ]
  },
  {
   "cell_type": "code",
   "execution_count": 11,
   "id": "d74c5c44",
   "metadata": {
    "execution": {
     "iopub.execute_input": "2024-06-27T17:23:13.246990Z",
     "iopub.status.busy": "2024-06-27T17:23:13.246564Z",
     "iopub.status.idle": "2024-06-27T17:23:14.696126Z",
     "shell.execute_reply": "2024-06-27T17:23:14.694949Z"
    },
    "papermill": {
     "duration": 1.463261,
     "end_time": "2024-06-27T17:23:14.699063",
     "exception": false,
     "start_time": "2024-06-27T17:23:13.235802",
     "status": "completed"
    },
    "tags": []
   },
   "outputs": [],
   "source": [
    "# Step 4 : train test split\n",
    "from sklearn.model_selection import train_test_split\n",
    "X_train, X_test, y_train, y_test = train_test_split(X,y, train_size=0.7, random_state=2529)"
   ]
  },
  {
   "cell_type": "code",
   "execution_count": 12,
   "id": "496cbec2",
   "metadata": {
    "execution": {
     "iopub.execute_input": "2024-06-27T17:23:14.719266Z",
     "iopub.status.busy": "2024-06-27T17:23:14.718869Z",
     "iopub.status.idle": "2024-06-27T17:23:14.726994Z",
     "shell.execute_reply": "2024-06-27T17:23:14.725951Z"
    },
    "papermill": {
     "duration": 0.020879,
     "end_time": "2024-06-27T17:23:14.729484",
     "exception": false,
     "start_time": "2024-06-27T17:23:14.708605",
     "status": "completed"
    },
    "tags": []
   },
   "outputs": [
    {
     "data": {
      "text/plain": [
       "((1400, 4), (600, 4), (1400,), (600,))"
      ]
     },
     "execution_count": 12,
     "metadata": {},
     "output_type": "execute_result"
    }
   ],
   "source": [
    "# check shape of train and test sample\n",
    "X_train.shape, X_test.shape, y_train.shape, y_test.shape"
   ]
  },
  {
   "cell_type": "code",
   "execution_count": 13,
   "id": "07c5f2ab",
   "metadata": {
    "execution": {
     "iopub.execute_input": "2024-06-27T17:23:14.749345Z",
     "iopub.status.busy": "2024-06-27T17:23:14.748960Z",
     "iopub.status.idle": "2024-06-27T17:23:14.861207Z",
     "shell.execute_reply": "2024-06-27T17:23:14.859763Z"
    },
    "papermill": {
     "duration": 0.125321,
     "end_time": "2024-06-27T17:23:14.863973",
     "exception": false,
     "start_time": "2024-06-27T17:23:14.738652",
     "status": "completed"
    },
    "tags": []
   },
   "outputs": [],
   "source": [
    "# Step 5 : select model\n",
    "from sklearn.linear_model import LogisticRegression\n",
    "model = LogisticRegression()"
   ]
  },
  {
   "cell_type": "code",
   "execution_count": 14,
   "id": "c146122c",
   "metadata": {
    "execution": {
     "iopub.execute_input": "2024-06-27T17:23:14.884732Z",
     "iopub.status.busy": "2024-06-27T17:23:14.884280Z",
     "iopub.status.idle": "2024-06-27T17:23:14.926335Z",
     "shell.execute_reply": "2024-06-27T17:23:14.924826Z"
    },
    "papermill": {
     "duration": 0.055597,
     "end_time": "2024-06-27T17:23:14.929188",
     "exception": false,
     "start_time": "2024-06-27T17:23:14.873591",
     "status": "completed"
    },
    "tags": []
   },
   "outputs": [
    {
     "data": {
      "text/html": [
       "<style>#sk-container-id-1 {color: black;background-color: white;}#sk-container-id-1 pre{padding: 0;}#sk-container-id-1 div.sk-toggleable {background-color: white;}#sk-container-id-1 label.sk-toggleable__label {cursor: pointer;display: block;width: 100%;margin-bottom: 0;padding: 0.3em;box-sizing: border-box;text-align: center;}#sk-container-id-1 label.sk-toggleable__label-arrow:before {content: \"▸\";float: left;margin-right: 0.25em;color: #696969;}#sk-container-id-1 label.sk-toggleable__label-arrow:hover:before {color: black;}#sk-container-id-1 div.sk-estimator:hover label.sk-toggleable__label-arrow:before {color: black;}#sk-container-id-1 div.sk-toggleable__content {max-height: 0;max-width: 0;overflow: hidden;text-align: left;background-color: #f0f8ff;}#sk-container-id-1 div.sk-toggleable__content pre {margin: 0.2em;color: black;border-radius: 0.25em;background-color: #f0f8ff;}#sk-container-id-1 input.sk-toggleable__control:checked~div.sk-toggleable__content {max-height: 200px;max-width: 100%;overflow: auto;}#sk-container-id-1 input.sk-toggleable__control:checked~label.sk-toggleable__label-arrow:before {content: \"▾\";}#sk-container-id-1 div.sk-estimator input.sk-toggleable__control:checked~label.sk-toggleable__label {background-color: #d4ebff;}#sk-container-id-1 div.sk-label input.sk-toggleable__control:checked~label.sk-toggleable__label {background-color: #d4ebff;}#sk-container-id-1 input.sk-hidden--visually {border: 0;clip: rect(1px 1px 1px 1px);clip: rect(1px, 1px, 1px, 1px);height: 1px;margin: -1px;overflow: hidden;padding: 0;position: absolute;width: 1px;}#sk-container-id-1 div.sk-estimator {font-family: monospace;background-color: #f0f8ff;border: 1px dotted black;border-radius: 0.25em;box-sizing: border-box;margin-bottom: 0.5em;}#sk-container-id-1 div.sk-estimator:hover {background-color: #d4ebff;}#sk-container-id-1 div.sk-parallel-item::after {content: \"\";width: 100%;border-bottom: 1px solid gray;flex-grow: 1;}#sk-container-id-1 div.sk-label:hover label.sk-toggleable__label {background-color: #d4ebff;}#sk-container-id-1 div.sk-serial::before {content: \"\";position: absolute;border-left: 1px solid gray;box-sizing: border-box;top: 0;bottom: 0;left: 50%;z-index: 0;}#sk-container-id-1 div.sk-serial {display: flex;flex-direction: column;align-items: center;background-color: white;padding-right: 0.2em;padding-left: 0.2em;position: relative;}#sk-container-id-1 div.sk-item {position: relative;z-index: 1;}#sk-container-id-1 div.sk-parallel {display: flex;align-items: stretch;justify-content: center;background-color: white;position: relative;}#sk-container-id-1 div.sk-item::before, #sk-container-id-1 div.sk-parallel-item::before {content: \"\";position: absolute;border-left: 1px solid gray;box-sizing: border-box;top: 0;bottom: 0;left: 50%;z-index: -1;}#sk-container-id-1 div.sk-parallel-item {display: flex;flex-direction: column;z-index: 1;position: relative;background-color: white;}#sk-container-id-1 div.sk-parallel-item:first-child::after {align-self: flex-end;width: 50%;}#sk-container-id-1 div.sk-parallel-item:last-child::after {align-self: flex-start;width: 50%;}#sk-container-id-1 div.sk-parallel-item:only-child::after {width: 0;}#sk-container-id-1 div.sk-dashed-wrapped {border: 1px dashed gray;margin: 0 0.4em 0.5em 0.4em;box-sizing: border-box;padding-bottom: 0.4em;background-color: white;}#sk-container-id-1 div.sk-label label {font-family: monospace;font-weight: bold;display: inline-block;line-height: 1.2em;}#sk-container-id-1 div.sk-label-container {text-align: center;}#sk-container-id-1 div.sk-container {/* jupyter's `normalize.less` sets `[hidden] { display: none; }` but bootstrap.min.css set `[hidden] { display: none !important; }` so we also need the `!important` here to be able to override the default hidden behavior on the sphinx rendered scikit-learn.org. See: https://github.com/scikit-learn/scikit-learn/issues/21755 */display: inline-block !important;position: relative;}#sk-container-id-1 div.sk-text-repr-fallback {display: none;}</style><div id=\"sk-container-id-1\" class=\"sk-top-container\"><div class=\"sk-text-repr-fallback\"><pre>LogisticRegression()</pre><b>In a Jupyter environment, please rerun this cell to show the HTML representation or trust the notebook. <br />On GitHub, the HTML representation is unable to render, please try loading this page with nbviewer.org.</b></div><div class=\"sk-container\" hidden><div class=\"sk-item\"><div class=\"sk-estimator sk-toggleable\"><input class=\"sk-toggleable__control sk-hidden--visually\" id=\"sk-estimator-id-1\" type=\"checkbox\" checked><label for=\"sk-estimator-id-1\" class=\"sk-toggleable__label sk-toggleable__label-arrow\">LogisticRegression</label><div class=\"sk-toggleable__content\"><pre>LogisticRegression()</pre></div></div></div></div></div>"
      ],
      "text/plain": [
       "LogisticRegression()"
      ]
     },
     "execution_count": 14,
     "metadata": {},
     "output_type": "execute_result"
    }
   ],
   "source": [
    "# Step 6 : train or fit model\n",
    "model.fit(X_train,y_train)"
   ]
  },
  {
   "cell_type": "code",
   "execution_count": 15,
   "id": "325e73e2",
   "metadata": {
    "execution": {
     "iopub.execute_input": "2024-06-27T17:23:14.949749Z",
     "iopub.status.busy": "2024-06-27T17:23:14.949312Z",
     "iopub.status.idle": "2024-06-27T17:23:14.957646Z",
     "shell.execute_reply": "2024-06-27T17:23:14.956285Z"
    },
    "papermill": {
     "duration": 0.021389,
     "end_time": "2024-06-27T17:23:14.960113",
     "exception": false,
     "start_time": "2024-06-27T17:23:14.938724",
     "status": "completed"
    },
    "tags": []
   },
   "outputs": [
    {
     "data": {
      "text/plain": [
       "array([9.39569088])"
      ]
     },
     "execution_count": 15,
     "metadata": {},
     "output_type": "execute_result"
    }
   ],
   "source": [
    "model.intercept_"
   ]
  },
  {
   "cell_type": "code",
   "execution_count": 16,
   "id": "6ab5d683",
   "metadata": {
    "execution": {
     "iopub.execute_input": "2024-06-27T17:23:14.981146Z",
     "iopub.status.busy": "2024-06-27T17:23:14.980729Z",
     "iopub.status.idle": "2024-06-27T17:23:14.988210Z",
     "shell.execute_reply": "2024-06-27T17:23:14.987034Z"
    },
    "papermill": {
     "duration": 0.020425,
     "end_time": "2024-06-27T17:23:14.990521",
     "exception": false,
     "start_time": "2024-06-27T17:23:14.970096",
     "status": "completed"
    },
    "tags": []
   },
   "outputs": [
    {
     "data": {
      "text/plain": [
       "array([[-2.31410013e-04, -3.43062681e-01,  1.67863322e-03,\n",
       "         1.51188529e+00]])"
      ]
     },
     "execution_count": 16,
     "metadata": {},
     "output_type": "execute_result"
    }
   ],
   "source": [
    "model.coef_"
   ]
  },
  {
   "cell_type": "code",
   "execution_count": 17,
   "id": "cf811616",
   "metadata": {
    "execution": {
     "iopub.execute_input": "2024-06-27T17:23:15.012240Z",
     "iopub.status.busy": "2024-06-27T17:23:15.011334Z",
     "iopub.status.idle": "2024-06-27T17:23:15.018954Z",
     "shell.execute_reply": "2024-06-27T17:23:15.017661Z"
    },
    "papermill": {
     "duration": 0.021513,
     "end_time": "2024-06-27T17:23:15.021553",
     "exception": false,
     "start_time": "2024-06-27T17:23:15.000040",
     "status": "completed"
    },
    "tags": []
   },
   "outputs": [],
   "source": [
    "# Step 7 : predict model\n",
    "y_pred = model.predict(X_test)"
   ]
  },
  {
   "cell_type": "code",
   "execution_count": 18,
   "id": "44f4e2e1",
   "metadata": {
    "execution": {
     "iopub.execute_input": "2024-06-27T17:23:15.043491Z",
     "iopub.status.busy": "2024-06-27T17:23:15.043060Z",
     "iopub.status.idle": "2024-06-27T17:23:15.053747Z",
     "shell.execute_reply": "2024-06-27T17:23:15.052475Z"
    },
    "papermill": {
     "duration": 0.024802,
     "end_time": "2024-06-27T17:23:15.056384",
     "exception": false,
     "start_time": "2024-06-27T17:23:15.031582",
     "status": "completed"
    },
    "tags": []
   },
   "outputs": [
    {
     "data": {
      "text/plain": [
       "array([0, 0, 0, 1, 1, 0, 0, 0, 0, 0, 0, 0, 0, 0, 0, 0, 0, 0, 0, 0, 0, 0,\n",
       "       0, 0, 0, 0, 0, 0, 0, 0, 0, 0, 0, 0, 0, 0, 0, 0, 0, 1, 0, 0, 0, 0,\n",
       "       0, 0, 0, 0, 0, 0, 1, 0, 0, 0, 0, 0, 0, 0, 0, 0, 1, 1, 0, 0, 0, 0,\n",
       "       0, 0, 0, 0, 0, 1, 0, 0, 0, 1, 0, 0, 0, 0, 0, 0, 0, 0, 0, 0, 0, 0,\n",
       "       0, 0, 0, 0, 0, 1, 0, 0, 1, 0, 0, 0, 0, 0, 0, 0, 0, 0, 0, 0, 0, 0,\n",
       "       0, 0, 0, 0, 0, 0, 0, 0, 0, 0, 0, 1, 0, 0, 1, 0, 0, 0, 0, 0, 0, 0,\n",
       "       0, 0, 0, 1, 0, 1, 1, 0, 0, 0, 0, 0, 0, 0, 1, 0, 0, 1, 0, 0, 0, 0,\n",
       "       1, 0, 0, 0, 0, 0, 0, 0, 1, 0, 0, 0, 0, 0, 0, 1, 1, 1, 0, 0, 0, 0,\n",
       "       0, 0, 0, 0, 0, 0, 1, 0, 0, 0, 0, 0, 0, 1, 0, 0, 0, 0, 0, 0, 0, 0,\n",
       "       0, 0, 0, 0, 0, 1, 0, 0, 0, 0, 0, 0, 0, 1, 0, 0, 1, 0, 0, 0, 0, 0,\n",
       "       0, 0, 0, 0, 1, 0, 0, 0, 1, 0, 0, 0, 0, 1, 0, 0, 0, 0, 0, 0, 0, 0,\n",
       "       0, 0, 0, 0, 0, 1, 1, 0, 0, 0, 0, 0, 0, 0, 0, 0, 0, 0, 0, 1, 0, 0,\n",
       "       0, 0, 0, 0, 0, 1, 1, 0, 0, 0, 0, 1, 0, 0, 1, 0, 0, 0, 0, 0, 1, 0,\n",
       "       1, 0, 0, 0, 0, 0, 0, 1, 0, 0, 0, 0, 0, 0, 0, 0, 0, 1, 0, 0, 0, 0,\n",
       "       0, 0, 0, 0, 0, 0, 1, 0, 0, 0, 0, 0, 0, 0, 0, 0, 1, 0, 0, 0, 0, 0,\n",
       "       0, 0, 0, 0, 0, 0, 1, 0, 0, 0, 0, 1, 0, 0, 0, 0, 0, 0, 0, 0, 0, 0,\n",
       "       1, 1, 0, 0, 0, 0, 0, 0, 0, 0, 0, 0, 0, 0, 0, 0, 0, 0, 0, 0, 0, 0,\n",
       "       0, 0, 0, 0, 1, 0, 0, 0, 0, 0, 0, 0, 0, 0, 0, 0, 0, 0, 0, 0, 0, 1,\n",
       "       0, 0, 0, 0, 0, 0, 1, 0, 0, 0, 0, 0, 0, 1, 0, 0, 0, 0, 0, 0, 0, 0,\n",
       "       0, 0, 0, 0, 0, 0, 1, 1, 1, 0, 0, 0, 0, 1, 1, 0, 0, 0, 0, 0, 0, 0,\n",
       "       0, 0, 1, 0, 0, 0, 0, 0, 0, 0, 0, 0, 0, 0, 1, 0, 0, 0, 0, 0, 0, 0,\n",
       "       0, 0, 0, 1, 1, 0, 0, 1, 0, 0, 1, 0, 0, 0, 0, 0, 0, 0, 0, 0, 0, 0,\n",
       "       0, 0, 0, 1, 1, 0, 0, 0, 0, 1, 0, 0, 0, 0, 0, 0, 0, 1, 1, 0, 0, 0,\n",
       "       0, 0, 0, 0, 0, 0, 1, 0, 0, 0, 0, 0, 0, 0, 0, 1, 0, 0, 0, 0, 0, 1,\n",
       "       0, 0, 0, 0, 0, 0, 0, 0, 0, 0, 0, 0, 0, 0, 0, 0, 0, 0, 0, 0, 0, 0,\n",
       "       0, 0, 0, 0, 0, 0, 0, 0, 0, 0, 0, 1, 0, 0, 0, 0, 0, 1, 0, 0, 0, 1,\n",
       "       0, 0, 0, 0, 0, 0, 0, 0, 1, 0, 1, 1, 0, 0, 0, 0, 0, 0, 1, 0, 0, 0,\n",
       "       0, 0, 0, 0, 0, 0])"
      ]
     },
     "execution_count": 18,
     "metadata": {},
     "output_type": "execute_result"
    }
   ],
   "source": [
    "y_pred"
   ]
  },
  {
   "cell_type": "code",
   "execution_count": 19,
   "id": "3f04aef7",
   "metadata": {
    "execution": {
     "iopub.execute_input": "2024-06-27T17:23:15.077937Z",
     "iopub.status.busy": "2024-06-27T17:23:15.077500Z",
     "iopub.status.idle": "2024-06-27T17:23:15.083189Z",
     "shell.execute_reply": "2024-06-27T17:23:15.081746Z"
    },
    "papermill": {
     "duration": 0.019717,
     "end_time": "2024-06-27T17:23:15.085997",
     "exception": false,
     "start_time": "2024-06-27T17:23:15.066280",
     "status": "completed"
    },
    "tags": []
   },
   "outputs": [],
   "source": [
    "# Step 8 : model accuracy\n",
    "from sklearn.metrics import confusion_matrix, accuracy_score, classification_report"
   ]
  },
  {
   "cell_type": "code",
   "execution_count": 20,
   "id": "c94daf7f",
   "metadata": {
    "execution": {
     "iopub.execute_input": "2024-06-27T17:23:15.108176Z",
     "iopub.status.busy": "2024-06-27T17:23:15.107792Z",
     "iopub.status.idle": "2024-06-27T17:23:15.118772Z",
     "shell.execute_reply": "2024-06-27T17:23:15.117384Z"
    },
    "papermill": {
     "duration": 0.025719,
     "end_time": "2024-06-27T17:23:15.121768",
     "exception": false,
     "start_time": "2024-06-27T17:23:15.096049",
     "status": "completed"
    },
    "tags": []
   },
   "outputs": [
    {
     "data": {
      "text/plain": [
       "array([[506,  13],\n",
       "       [ 17,  64]])"
      ]
     },
     "execution_count": 20,
     "metadata": {},
     "output_type": "execute_result"
    }
   ],
   "source": [
    "confusion_matrix(y_test,y_pred)"
   ]
  },
  {
   "cell_type": "code",
   "execution_count": 21,
   "id": "03331908",
   "metadata": {
    "execution": {
     "iopub.execute_input": "2024-06-27T17:23:15.144165Z",
     "iopub.status.busy": "2024-06-27T17:23:15.143780Z",
     "iopub.status.idle": "2024-06-27T17:23:15.153828Z",
     "shell.execute_reply": "2024-06-27T17:23:15.152342Z"
    },
    "papermill": {
     "duration": 0.024583,
     "end_time": "2024-06-27T17:23:15.156521",
     "exception": false,
     "start_time": "2024-06-27T17:23:15.131938",
     "status": "completed"
    },
    "tags": []
   },
   "outputs": [
    {
     "data": {
      "text/plain": [
       "0.95"
      ]
     },
     "execution_count": 21,
     "metadata": {},
     "output_type": "execute_result"
    }
   ],
   "source": [
    "accuracy_score(y_test,y_pred)"
   ]
  },
  {
   "cell_type": "code",
   "execution_count": 22,
   "id": "8de639ac",
   "metadata": {
    "execution": {
     "iopub.execute_input": "2024-06-27T17:23:15.178980Z",
     "iopub.status.busy": "2024-06-27T17:23:15.178543Z",
     "iopub.status.idle": "2024-06-27T17:23:15.195234Z",
     "shell.execute_reply": "2024-06-27T17:23:15.193992Z"
    },
    "papermill": {
     "duration": 0.031381,
     "end_time": "2024-06-27T17:23:15.198070",
     "exception": false,
     "start_time": "2024-06-27T17:23:15.166689",
     "status": "completed"
    },
    "tags": []
   },
   "outputs": [
    {
     "name": "stdout",
     "output_type": "stream",
     "text": [
      "              precision    recall  f1-score   support\n",
      "\n",
      "           0       0.97      0.97      0.97       519\n",
      "           1       0.83      0.79      0.81        81\n",
      "\n",
      "    accuracy                           0.95       600\n",
      "   macro avg       0.90      0.88      0.89       600\n",
      "weighted avg       0.95      0.95      0.95       600\n",
      "\n"
     ]
    }
   ],
   "source": [
    "print(classification_report(y_test,y_pred))"
   ]
  }
 ],
 "metadata": {
  "kaggle": {
   "accelerator": "none",
   "dataSources": [
    {
     "datasetId": 5295146,
     "sourceId": 8804533,
     "sourceType": "datasetVersion"
    }
   ],
   "dockerImageVersionId": 30732,
   "isGpuEnabled": false,
   "isInternetEnabled": true,
   "language": "python",
   "sourceType": "notebook"
  },
  "kernelspec": {
   "display_name": "Python 3",
   "language": "python",
   "name": "python3"
  },
  "language_info": {
   "codemirror_mode": {
    "name": "ipython",
    "version": 3
   },
   "file_extension": ".py",
   "mimetype": "text/x-python",
   "name": "python",
   "nbconvert_exporter": "python",
   "pygments_lexer": "ipython3",
   "version": "3.10.13"
  },
  "papermill": {
   "default_parameters": {},
   "duration": 7.160777,
   "end_time": "2024-06-27T17:23:15.830871",
   "environment_variables": {},
   "exception": null,
   "input_path": "__notebook__.ipynb",
   "output_path": "__notebook__.ipynb",
   "parameters": {},
   "start_time": "2024-06-27T17:23:08.670094",
   "version": "2.5.0"
  }
 },
 "nbformat": 4,
 "nbformat_minor": 5
}
